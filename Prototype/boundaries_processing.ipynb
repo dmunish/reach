{
 "cells": [
  {
   "cell_type": "markdown",
   "id": "32df923a",
   "metadata": {},
   "source": [
    "## Imports"
   ]
  },
  {
   "cell_type": "code",
   "execution_count": 1,
   "id": "5f37889b",
   "metadata": {},
   "outputs": [],
   "source": [
    "import geopandas as gpd\n",
    "import pandas as pd\n",
    "from shapely.geometry import shape, MultiPolygon, Polygon\n",
    "import uuid\n",
    "import os\n",
    "from supabase import create_client, Client\n",
    "import json\n",
    "from dotenv import load_dotenv"
   ]
  },
  {
   "cell_type": "markdown",
   "id": "8af394f7",
   "metadata": {},
   "source": [
    "## Set Up Supabase Connection"
   ]
  },
  {
   "cell_type": "code",
   "execution_count": null,
   "id": "f22b8006",
   "metadata": {},
   "outputs": [],
   "source": [
    "load_dotenv()\n",
    "SUPABASE_URL = os.getenv(\"SUPABASE_URL\")\n",
    "SUPABASE_KEY = os.getenv(\"SUPABASE_KEY\")\n",
    "\n",
    "supabase: Client = create_client(SUPABASE_URL, SUPABASE_KEY)"
   ]
  },
  {
   "cell_type": "markdown",
   "id": "d172cab8",
   "metadata": {},
   "source": [
    "## Processing"
   ]
  },
  {
   "cell_type": "markdown",
   "id": "1e89330c",
   "metadata": {},
   "source": [
    "### Reading shape files"
   ]
  },
  {
   "cell_type": "code",
   "execution_count": null,
   "id": "afbde5d0",
   "metadata": {},
   "outputs": [],
   "source": [
    "admin0 = gpd.read_file(\"Shapefiles\\pak_admbnda_adm0_wfp_20220909.shp\")\n",
    "admin1 = gpd.read_file(\"Shapefiles\\pak_admbnda_adm1_wfp_20220909.shp\")\n",
    "admin2 = gpd.read_file(\"Shapefiles\\pak_admbnda_adm2_wfp_20220909.shp\")\n",
    "admin3 = gpd.read_file(\"Shapefiles\\pak_admbnda_adm3_wfp_20220909.shp\")\n",
    "\n",
    "print(\"Admin Level 0 shape:\", admin0.shape)\n",
    "print(\"Admin Level 1 shape:\", admin1.shape)\n",
    "print(\"Admin Level 2 shape:\", admin2.shape)\n",
    "print(\"Admin Level 3 shape:\", admin3.shape)"
   ]
  },
  {
   "cell_type": "markdown",
   "id": "bb60fac4",
   "metadata": {},
   "source": [
    "### Shapefile structure"
   ]
  },
  {
   "cell_type": "code",
   "execution_count": null,
   "id": "1b3c9f84",
   "metadata": {},
   "outputs": [],
   "source": [
    "print(admin0.columns.tolist)\n",
    "print(admin0.head())"
   ]
  }
 ],
 "metadata": {
  "kernelspec": {
   "display_name": "venv",
   "language": "python",
   "name": "python3"
  },
  "language_info": {
   "codemirror_mode": {
    "name": "ipython",
    "version": 3
   },
   "file_extension": ".py",
   "mimetype": "text/x-python",
   "name": "python",
   "nbconvert_exporter": "python",
   "pygments_lexer": "ipython3",
   "version": "3.12.3"
  }
 },
 "nbformat": 4,
 "nbformat_minor": 5
}
