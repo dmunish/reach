{
 "cells": [
  {
   "cell_type": "markdown",
   "id": "32df923a",
   "metadata": {},
   "source": [
    "## Imports"
   ]
  },
  {
   "cell_type": "code",
   "execution_count": 1,
   "id": "5f37889b",
   "metadata": {},
   "outputs": [],
   "source": [
    "import geopandas as gpd\n",
    "import pandas as pd\n",
    "from shapely.geometry import shape, MultiPolygon, Polygon\n",
    "import os\n",
    "from supabase import create_client, Client\n",
    "import json\n",
    "from dotenv import load_dotenv\n",
    "import psycopg"
   ]
  },
  {
   "cell_type": "markdown",
   "id": "d172cab8",
   "metadata": {},
   "source": [
    "## Processing"
   ]
  },
  {
   "cell_type": "markdown",
   "id": "1e89330c",
   "metadata": {},
   "source": [
    "### Reading shape files"
   ]
  },
  {
   "cell_type": "code",
   "execution_count": 2,
   "id": "afbde5d0",
   "metadata": {},
   "outputs": [
    {
     "name": "stdout",
     "output_type": "stream",
     "text": [
      "Admin Level 0 shape: (1, 11)\n",
      "Admin Level 1 shape: (7, 13)\n",
      "Admin Level 2 shape: (160, 15)\n",
      "Admin Level 3 shape: (577, 17)\n"
     ]
    }
   ],
   "source": [
    "admin0 = gpd.read_file(\"Shapefiles\\\\pak_admbnda_adm0_wfp_20220909.shp\")\n",
    "admin1 = gpd.read_file(\"Shapefiles\\\\pak_admbnda_adm1_wfp_20220909.shp\")\n",
    "admin2 = gpd.read_file(\"Shapefiles\\\\pak_admbnda_adm2_wfp_20220909.shp\")\n",
    "admin3 = gpd.read_file(\"Shapefiles\\\\pak_admbnda_adm3_wfp_20220909.shp\")\n",
    "\n",
    "print(\"Admin Level 0 shape:\", admin0.shape)\n",
    "print(\"Admin Level 1 shape:\", admin1.shape)\n",
    "print(\"Admin Level 2 shape:\", admin2.shape)\n",
    "print(\"Admin Level 3 shape:\", admin3.shape)"
   ]
  },
  {
   "cell_type": "markdown",
   "id": "ddc75ef7",
   "metadata": {},
   "source": [
    "### Transformation to EPSG:4326"
   ]
  },
  {
   "cell_type": "code",
   "execution_count": 3,
   "id": "a2f895eb",
   "metadata": {},
   "outputs": [],
   "source": [
    "if admin0.crs != \"EPSG:4326\":\n",
    "    admin0 = admin0.to_crs(\"EPSG:4326\")\n",
    "if admin1.crs != \"EPSG:4326\":\n",
    "    admin1 = admin1.to_crs(\"EPSG:4326\")\n",
    "if admin2.crs != \"EPSG:4326\":\n",
    "    admin2 = admin2.to_crs(\"EPSG:4326\")\n",
    "if admin3.crs != \"EPSG:4326\":\n",
    "    admin3 = admin3.to_crs(\"EPSG:4326\")"
   ]
  },
  {
   "cell_type": "markdown",
   "id": "1723724a",
   "metadata": {},
   "source": [
    "### Multipolygon to Polygon"
   ]
  },
  {
   "cell_type": "code",
   "execution_count": 4,
   "id": "9a86cb05",
   "metadata": {},
   "outputs": [
    {
     "name": "stdout",
     "output_type": "stream",
     "text": [
      "Geometry conversion complete\n"
     ]
    }
   ],
   "source": [
    "def convert_to_polygon(geom):\n",
    "    # Convert MultiPolygon to Polygon by taking the largest polygon\n",
    "    if isinstance(geom, MultiPolygon):\n",
    "        # Return the largest polygon\n",
    "        return max(geom.geoms, key=lambda p: p.area)\n",
    "    return geom\n",
    "\n",
    "# Apply conversion to all levels\n",
    "admin0['geometry'] = admin0['geometry'].apply(convert_to_polygon)\n",
    "admin1['geometry'] = admin1['geometry'].apply(convert_to_polygon)\n",
    "admin2['geometry'] = admin2['geometry'].apply(convert_to_polygon)\n",
    "admin3['geometry'] = admin3['geometry'].apply(convert_to_polygon)\n",
    "\n",
    "print(\"Geometry conversion complete\")"
   ]
  },
  {
   "cell_type": "markdown",
   "id": "bb60fac4",
   "metadata": {},
   "source": [
    "### Shapefile structure"
   ]
  },
  {
   "cell_type": "code",
   "execution_count": 5,
   "id": "1b3c9f84",
   "metadata": {},
   "outputs": [
    {
     "name": "stdout",
     "output_type": "stream",
     "text": [
      "['Shape_Leng', 'Shape_Area', 'ADM0_EN', 'ADM0_PCODE', 'ADM0_REF', 'ADM0ALT1EN', 'ADM0ALT2EN', 'date', 'validOn', 'validTo', 'geometry']\n",
      "====================================\n",
      "   Shape_Leng  Shape_Area   ADM0_EN ADM0_PCODE ADM0_REF ADM0ALT1EN ADM0ALT2EN  \\\n",
      "0   87.925272   82.027679  Pakistan         PK     None       None       None   \n",
      "\n",
      "        date    validOn validTo  \\\n",
      "0 2022-09-02 2022-09-09     NaT   \n",
      "\n",
      "                                            geometry  \n",
      "0  POLYGON ((74.75373 37.02594, 74.76399 37.02577...  \n"
     ]
    }
   ],
   "source": [
    "print(admin0.columns.to_list())\n",
    "print(\"====================================\")\n",
    "print(admin0.head(2))"
   ]
  },
  {
   "cell_type": "markdown",
   "id": "5bfffdce",
   "metadata": {},
   "source": [
    "### Transform to Dataframe"
   ]
  },
  {
   "cell_type": "code",
   "execution_count": 6,
   "id": "2e397c95",
   "metadata": {},
   "outputs": [],
   "source": [
    "# Function to transfor the different shapefiles into a dataframe for the database\n",
    "def transform_shape(gdf, level):\n",
    "    transformed_data = []\n",
    "    \n",
    "    for idx, row in gdf.iterrows():\n",
    "        name = row[f\"ADM{level}_EN\"]\n",
    "        geometry = row[\"geometry\"].wkt\n",
    "\n",
    "        # Get parent's name too\n",
    "        if level > 0:\n",
    "            parent_name = row[f\"ADM{level-1}_EN\"]\n",
    "        else:\n",
    "            parent_name = None\n",
    "        \n",
    "        transformed_data.append({\n",
    "            'name': name,\n",
    "            'parent_name': parent_name,\n",
    "            'heirarchy_level': level,\n",
    "            'polygon': geometry\n",
    "        })\n",
    "    return pd.DataFrame(transformed_data)\n",
    "\n",
    "places_0 = transform_shape(admin0, level=0)\n",
    "places_1 = transform_shape(admin1, level=1)\n",
    "places_2 = transform_shape(admin2, level=2)\n",
    "places_3 = transform_shape(admin3, level=3)\n",
    "\n",
    "all_places = pd.concat([places_0, places_1, places_2, places_3], ignore_index=True)"
   ]
  },
  {
   "cell_type": "code",
   "execution_count": null,
   "id": "c1ef9ca3",
   "metadata": {},
   "outputs": [],
   "source": [
    "print(f\"Total places: {len(all_places)}\")\n",
    "print(f\"Level 0: {len(places_0)}\")\n",
    "print(f\"Level 1: {len(places_1)}\")\n",
    "print(f\"Level 2: {len(places_2)}\")\n",
    "print(f\"Level 3: {len(places_3)}\")\n",
    "\n",
    "# Preview the data\n",
    "print(\"\\nSample of combined data:\")\n",
    "print(all_places.head(20))"
   ]
  },
  {
   "cell_type": "code",
   "execution_count": 9,
   "id": "40ccf22b",
   "metadata": {},
   "outputs": [],
   "source": [
    "all_places.to_csv(\"places.csv\", index=None, header=True)"
   ]
  },
  {
   "cell_type": "markdown",
   "id": "70796055",
   "metadata": {},
   "source": [
    "## Uploading to Supabase"
   ]
  },
  {
   "cell_type": "markdown",
   "id": "0462fa5a",
   "metadata": {},
   "source": [
    "### Connection"
   ]
  },
  {
   "cell_type": "code",
   "execution_count": null,
   "id": "f1bfda58",
   "metadata": {},
   "outputs": [],
   "source": [
    "load_dotenv('../local.env', override=True)\n",
    "\n",
    "SUPABASE_URL = os.getenv(\"SUPABASE_URL\")\n",
    "SUPABASE_KEY = os.getenv(\"SUPABASE_KEY\")\n",
    "SUPABASE_DB_URL = os.getenv(\"SUPABASE_DB_URL\")\n",
    "\n",
    "supabase: Client = create_client(SUPABASE_URL, SUPABASE_KEY)\n",
    "conn = psycopg.connect(SUPABASE_DB_URL)\n",
    "cur = conn.cursor()\n",
    "print(\"Connected to Supabase\")"
   ]
  },
  {
   "cell_type": "markdown",
   "id": "4fe3fccd",
   "metadata": {},
   "source": [
    "### Insertion"
   ]
  },
  {
   "cell_type": "code",
   "execution_count": null,
   "id": "c4c86da0",
   "metadata": {},
   "outputs": [],
   "source": [
    "INSERT_QUERY = \"\"\"\n",
    "    INSERT INTO places (name, parent_name, heirarchy_level, polygon)\n",
    "    VALUES (%s, %s, %s, %s)\n",
    "    ON CONFLICT(id) DO NOTHING\n",
    "\"\"\"\n",
    "\n",
    "values = [\n",
    "    (\n",
    "        row['name'],\n",
    "        row['parent_name'] if pd.notna(row['parent_name']) else None,\n",
    "        row['hierarchy_level'],\n",
    "        f\"SRID=4326;{row['polygon']}\"\n",
    "    )\n",
    "    for _, row in all_places.iterrows()\n",
    "]\n",
    "\n",
    "print(f\"Inserting {len(values)} records...\")\n",
    "cur.executemany(INSERT_QUERY, values)\n",
    "conn.commit()\n",
    "\n",
    "print(\"Insertion successful\")\n",
    "\n",
    "cur.close()\n",
    "conn.close()"
   ]
  }
 ],
 "metadata": {
  "kernelspec": {
   "display_name": "venv",
   "language": "python",
   "name": "python3"
  },
  "language_info": {
   "codemirror_mode": {
    "name": "ipython",
    "version": 3
   },
   "file_extension": ".py",
   "mimetype": "text/x-python",
   "name": "python",
   "nbconvert_exporter": "python",
   "pygments_lexer": "ipython3",
   "version": "3.12.3"
  }
 },
 "nbformat": 4,
 "nbformat_minor": 5
}
