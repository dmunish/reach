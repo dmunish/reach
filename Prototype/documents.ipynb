{
 "cells": [
  {
   "cell_type": "markdown",
   "id": "be1c034d",
   "metadata": {},
   "source": [
    "## Imports"
   ]
  },
  {
   "cell_type": "code",
   "execution_count": 7,
   "id": "3813ea23",
   "metadata": {},
   "outputs": [],
   "source": [
    "import pandas as pd\n",
    "import os"
   ]
  },
  {
   "cell_type": "markdown",
   "id": "7968911f",
   "metadata": {},
   "source": [
    "## NDMA"
   ]
  },
  {
   "cell_type": "code",
   "execution_count": null,
   "id": "6a25ed87",
   "metadata": {},
   "outputs": [
    {
     "ename": "KeyError",
     "evalue": "'source_agency'",
     "output_type": "error",
     "traceback": [
      "\u001b[31m---------------------------------------------------------------------------\u001b[39m",
      "\u001b[31mKeyError\u001b[39m                                  Traceback (most recent call last)",
      "\u001b[36mFile \u001b[39m\u001b[32md:\\Danish\\Work\\Projects\\REACH\\venv\\Lib\\site-packages\\pandas\\core\\indexes\\base.py:3812\u001b[39m, in \u001b[36mIndex.get_loc\u001b[39m\u001b[34m(self, key)\u001b[39m\n\u001b[32m   3811\u001b[39m \u001b[38;5;28;01mtry\u001b[39;00m:\n\u001b[32m-> \u001b[39m\u001b[32m3812\u001b[39m     \u001b[38;5;28;01mreturn\u001b[39;00m \u001b[38;5;28;43mself\u001b[39;49m\u001b[43m.\u001b[49m\u001b[43m_engine\u001b[49m\u001b[43m.\u001b[49m\u001b[43mget_loc\u001b[49m\u001b[43m(\u001b[49m\u001b[43mcasted_key\u001b[49m\u001b[43m)\u001b[49m\n\u001b[32m   3813\u001b[39m \u001b[38;5;28;01mexcept\u001b[39;00m \u001b[38;5;167;01mKeyError\u001b[39;00m \u001b[38;5;28;01mas\u001b[39;00m err:\n",
      "\u001b[36mFile \u001b[39m\u001b[32mpandas/_libs/index.pyx:167\u001b[39m, in \u001b[36mpandas._libs.index.IndexEngine.get_loc\u001b[39m\u001b[34m()\u001b[39m\n",
      "\u001b[36mFile \u001b[39m\u001b[32mpandas/_libs/index.pyx:196\u001b[39m, in \u001b[36mpandas._libs.index.IndexEngine.get_loc\u001b[39m\u001b[34m()\u001b[39m\n",
      "\u001b[36mFile \u001b[39m\u001b[32mpandas/_libs/hashtable_class_helper.pxi:7088\u001b[39m, in \u001b[36mpandas._libs.hashtable.PyObjectHashTable.get_item\u001b[39m\u001b[34m()\u001b[39m\n",
      "\u001b[36mFile \u001b[39m\u001b[32mpandas/_libs/hashtable_class_helper.pxi:7096\u001b[39m, in \u001b[36mpandas._libs.hashtable.PyObjectHashTable.get_item\u001b[39m\u001b[34m()\u001b[39m\n",
      "\u001b[31mKeyError\u001b[39m: 'source_agency'",
      "\nThe above exception was the direct cause of the following exception:\n",
      "\u001b[31mKeyError\u001b[39m                                  Traceback (most recent call last)",
      "\u001b[36mCell\u001b[39m\u001b[36m \u001b[39m\u001b[32mIn[10]\u001b[39m\u001b[32m, line 5\u001b[39m\n\u001b[32m      2\u001b[39m data_ndma = []\n\u001b[32m      4\u001b[39m \u001b[38;5;28;01mfor\u001b[39;00m _, row \u001b[38;5;129;01min\u001b[39;00m ndma_df.iterrows():\n\u001b[32m----> \u001b[39m\u001b[32m5\u001b[39m     source = \u001b[43mrow\u001b[49m\u001b[43m[\u001b[49m\u001b[33;43m\"\u001b[39;49m\u001b[33;43msource_agency\u001b[39;49m\u001b[33;43m\"\u001b[39;49m\u001b[43m]\u001b[49m\n\u001b[32m      6\u001b[39m     posted_date = row[\u001b[33m\"\u001b[39m\u001b[33mdate\u001b[39m\u001b[33m\"\u001b[39m]\n\u001b[32m      7\u001b[39m     title = row[\u001b[33m\"\u001b[39m\u001b[33mtitle\u001b[39m\u001b[33m\"\u001b[39m]\n",
      "\u001b[36mFile \u001b[39m\u001b[32md:\\Danish\\Work\\Projects\\REACH\\venv\\Lib\\site-packages\\pandas\\core\\series.py:1130\u001b[39m, in \u001b[36mSeries.__getitem__\u001b[39m\u001b[34m(self, key)\u001b[39m\n\u001b[32m   1127\u001b[39m     \u001b[38;5;28;01mreturn\u001b[39;00m \u001b[38;5;28mself\u001b[39m._values[key]\n\u001b[32m   1129\u001b[39m \u001b[38;5;28;01melif\u001b[39;00m key_is_scalar:\n\u001b[32m-> \u001b[39m\u001b[32m1130\u001b[39m     \u001b[38;5;28;01mreturn\u001b[39;00m \u001b[38;5;28;43mself\u001b[39;49m\u001b[43m.\u001b[49m\u001b[43m_get_value\u001b[49m\u001b[43m(\u001b[49m\u001b[43mkey\u001b[49m\u001b[43m)\u001b[49m\n\u001b[32m   1132\u001b[39m \u001b[38;5;66;03m# Convert generator to list before going through hashable part\u001b[39;00m\n\u001b[32m   1133\u001b[39m \u001b[38;5;66;03m# (We will iterate through the generator there to check for slices)\u001b[39;00m\n\u001b[32m   1134\u001b[39m \u001b[38;5;28;01mif\u001b[39;00m is_iterator(key):\n",
      "\u001b[36mFile \u001b[39m\u001b[32md:\\Danish\\Work\\Projects\\REACH\\venv\\Lib\\site-packages\\pandas\\core\\series.py:1246\u001b[39m, in \u001b[36mSeries._get_value\u001b[39m\u001b[34m(self, label, takeable)\u001b[39m\n\u001b[32m   1243\u001b[39m     \u001b[38;5;28;01mreturn\u001b[39;00m \u001b[38;5;28mself\u001b[39m._values[label]\n\u001b[32m   1245\u001b[39m \u001b[38;5;66;03m# Similar to Index.get_value, but we do not fall back to positional\u001b[39;00m\n\u001b[32m-> \u001b[39m\u001b[32m1246\u001b[39m loc = \u001b[38;5;28;43mself\u001b[39;49m\u001b[43m.\u001b[49m\u001b[43mindex\u001b[49m\u001b[43m.\u001b[49m\u001b[43mget_loc\u001b[49m\u001b[43m(\u001b[49m\u001b[43mlabel\u001b[49m\u001b[43m)\u001b[49m\n\u001b[32m   1248\u001b[39m \u001b[38;5;28;01mif\u001b[39;00m is_integer(loc):\n\u001b[32m   1249\u001b[39m     \u001b[38;5;28;01mreturn\u001b[39;00m \u001b[38;5;28mself\u001b[39m._values[loc]\n",
      "\u001b[36mFile \u001b[39m\u001b[32md:\\Danish\\Work\\Projects\\REACH\\venv\\Lib\\site-packages\\pandas\\core\\indexes\\base.py:3819\u001b[39m, in \u001b[36mIndex.get_loc\u001b[39m\u001b[34m(self, key)\u001b[39m\n\u001b[32m   3814\u001b[39m     \u001b[38;5;28;01mif\u001b[39;00m \u001b[38;5;28misinstance\u001b[39m(casted_key, \u001b[38;5;28mslice\u001b[39m) \u001b[38;5;129;01mor\u001b[39;00m (\n\u001b[32m   3815\u001b[39m         \u001b[38;5;28misinstance\u001b[39m(casted_key, abc.Iterable)\n\u001b[32m   3816\u001b[39m         \u001b[38;5;129;01mand\u001b[39;00m \u001b[38;5;28many\u001b[39m(\u001b[38;5;28misinstance\u001b[39m(x, \u001b[38;5;28mslice\u001b[39m) \u001b[38;5;28;01mfor\u001b[39;00m x \u001b[38;5;129;01min\u001b[39;00m casted_key)\n\u001b[32m   3817\u001b[39m     ):\n\u001b[32m   3818\u001b[39m         \u001b[38;5;28;01mraise\u001b[39;00m InvalidIndexError(key)\n\u001b[32m-> \u001b[39m\u001b[32m3819\u001b[39m     \u001b[38;5;28;01mraise\u001b[39;00m \u001b[38;5;167;01mKeyError\u001b[39;00m(key) \u001b[38;5;28;01mfrom\u001b[39;00m\u001b[38;5;250m \u001b[39m\u001b[34;01merr\u001b[39;00m\n\u001b[32m   3820\u001b[39m \u001b[38;5;28;01mexcept\u001b[39;00m \u001b[38;5;167;01mTypeError\u001b[39;00m:\n\u001b[32m   3821\u001b[39m     \u001b[38;5;66;03m# If we have a listlike key, _check_indexing_error will raise\u001b[39;00m\n\u001b[32m   3822\u001b[39m     \u001b[38;5;66;03m#  InvalidIndexError. Otherwise we fall through and re-raise\u001b[39;00m\n\u001b[32m   3823\u001b[39m     \u001b[38;5;66;03m#  the TypeError.\u001b[39;00m\n\u001b[32m   3824\u001b[39m     \u001b[38;5;28mself\u001b[39m._check_indexing_error(key)\n",
      "\u001b[31mKeyError\u001b[39m: 'source_agency'"
     ]
    }
   ],
   "source": [
    "ndma_csv_df = pd.read_csv(\"../Scrapers/ndma_advisories_bulk.csv\")\n",
    "data_ndma = []\n",
    "\n",
    "for _, row in ndma_csv_df.iterrows():\n",
    "    source = row[\"source_agency\"]\n",
    "    posted_date = row[\"date\"]\n",
    "    title = row[\"title\"]\n",
    "    url = row[\"url\"]\n",
    "    filename, filetype = os.path.splitext(row[\"filename\"])\n",
    "    filetype = filetype.lstrip('.')\n",
    "\n",
    "    data_ndma.append({\n",
    "        \"source\": source,\n",
    "        \"posted_date\": posted_date,\n",
    "        \"title\": title,\n",
    "        \"url\": url,\n",
    "        \"filename\": filename,\n",
    "        \"filetype\": filetype\n",
    "    })\n",
    "\n",
    "ndma_df = pd.DataFrame(data_ndma)"
   ]
  },
  {
   "cell_type": "code",
   "execution_count": 9,
   "id": "1619b1b6",
   "metadata": {},
   "outputs": [
    {
     "data": {
      "text/html": [
       "<div>\n",
       "<style scoped>\n",
       "    .dataframe tbody tr th:only-of-type {\n",
       "        vertical-align: middle;\n",
       "    }\n",
       "\n",
       "    .dataframe tbody tr th {\n",
       "        vertical-align: top;\n",
       "    }\n",
       "\n",
       "    .dataframe thead th {\n",
       "        text-align: right;\n",
       "    }\n",
       "</style>\n",
       "<table border=\"1\" class=\"dataframe\">\n",
       "  <thead>\n",
       "    <tr style=\"text-align: right;\">\n",
       "      <th></th>\n",
       "      <th>source</th>\n",
       "      <th>posted_date</th>\n",
       "      <th>title</th>\n",
       "      <th>url</th>\n",
       "      <th>filename</th>\n",
       "      <th>filetype</th>\n",
       "    </tr>\n",
       "  </thead>\n",
       "  <tbody>\n",
       "    <tr>\n",
       "      <th>0</th>\n",
       "      <td>NDMA</td>\n",
       "      <td>30-09-2025</td>\n",
       "      <td>Well Marked Low-pressure Area over Saurashtra,...</td>\n",
       "      <td>https://www.ndma.gov.pk/storage/advisories/Sep...</td>\n",
       "      <td>EMaXMwnW0CqJnz5bB7uZ</td>\n",
       "      <td>.pdf</td>\n",
       "    </tr>\n",
       "    <tr>\n",
       "      <th>1</th>\n",
       "      <td>NDMA</td>\n",
       "      <td>29-09-2025</td>\n",
       "      <td>RAIN-WIND / THUNDERSHOWER PREDICTED IN SOUTH-E...</td>\n",
       "      <td>https://www.ndma.gov.pk/storage/advisories/Sep...</td>\n",
       "      <td>OWjJCJNscoxfI4L3MCzS</td>\n",
       "      <td>.pdf</td>\n",
       "    </tr>\n",
       "    <tr>\n",
       "      <th>2</th>\n",
       "      <td>NDMA</td>\n",
       "      <td>29-09-2025</td>\n",
       "      <td>Well Marked Low-Pressure Aera Over Gulf of Cam...</td>\n",
       "      <td>https://www.ndma.gov.pk/storage/advisories/Sep...</td>\n",
       "      <td>sWyC4mYYO9VZOop02Q2K</td>\n",
       "      <td>.pdf</td>\n",
       "    </tr>\n",
       "    <tr>\n",
       "      <th>3</th>\n",
       "      <td>NDMA</td>\n",
       "      <td>14-09-2025</td>\n",
       "      <td>NDMA's Weather Advisory dated 14 Sep 2025</td>\n",
       "      <td>https://www.ndma.gov.pk/storage/advisories/Sep...</td>\n",
       "      <td>ohUxnQnqhAGjinJQiGhs</td>\n",
       "      <td>.pdf</td>\n",
       "    </tr>\n",
       "    <tr>\n",
       "      <th>4</th>\n",
       "      <td>NDMA</td>\n",
       "      <td>07-09-2025</td>\n",
       "      <td>TORRENTIAL RAIN PREDICTED IN SINDH &amp; OTHER PAR...</td>\n",
       "      <td>https://www.ndma.gov.pk/storage/advisories/Sep...</td>\n",
       "      <td>JyCxQN4qpEYEVCRYf1L9</td>\n",
       "      <td>.pdf</td>\n",
       "    </tr>\n",
       "  </tbody>\n",
       "</table>\n",
       "</div>"
      ],
      "text/plain": [
       "  source posted_date                                              title  \\\n",
       "0   NDMA  30-09-2025  Well Marked Low-pressure Area over Saurashtra,...   \n",
       "1   NDMA  29-09-2025  RAIN-WIND / THUNDERSHOWER PREDICTED IN SOUTH-E...   \n",
       "2   NDMA  29-09-2025  Well Marked Low-Pressure Aera Over Gulf of Cam...   \n",
       "3   NDMA  14-09-2025          NDMA's Weather Advisory dated 14 Sep 2025   \n",
       "4   NDMA  07-09-2025  TORRENTIAL RAIN PREDICTED IN SINDH & OTHER PAR...   \n",
       "\n",
       "                                                 url              filename  \\\n",
       "0  https://www.ndma.gov.pk/storage/advisories/Sep...  EMaXMwnW0CqJnz5bB7uZ   \n",
       "1  https://www.ndma.gov.pk/storage/advisories/Sep...  OWjJCJNscoxfI4L3MCzS   \n",
       "2  https://www.ndma.gov.pk/storage/advisories/Sep...  sWyC4mYYO9VZOop02Q2K   \n",
       "3  https://www.ndma.gov.pk/storage/advisories/Sep...  ohUxnQnqhAGjinJQiGhs   \n",
       "4  https://www.ndma.gov.pk/storage/advisories/Sep...  JyCxQN4qpEYEVCRYf1L9   \n",
       "\n",
       "  filetype  \n",
       "0     .pdf  \n",
       "1     .pdf  \n",
       "2     .pdf  \n",
       "3     .pdf  \n",
       "4     .pdf  "
      ]
     },
     "execution_count": 9,
     "metadata": {},
     "output_type": "execute_result"
    }
   ],
   "source": [
    "ndma_df.head()"
   ]
  }
 ],
 "metadata": {
  "kernelspec": {
   "display_name": "venv",
   "language": "python",
   "name": "python3"
  },
  "language_info": {
   "codemirror_mode": {
    "name": "ipython",
    "version": 3
   },
   "file_extension": ".py",
   "mimetype": "text/x-python",
   "name": "python",
   "nbconvert_exporter": "python",
   "pygments_lexer": "ipython3",
   "version": "3.12.3"
  }
 },
 "nbformat": 4,
 "nbformat_minor": 5
}
