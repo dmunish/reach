{
 "cells": [
  {
   "cell_type": "markdown",
   "id": "be1c034d",
   "metadata": {},
   "source": [
    "## Imports"
   ]
  },
  {
   "cell_type": "code",
   "execution_count": 44,
   "id": "3813ea23",
   "metadata": {},
   "outputs": [],
   "source": [
    "import pandas as pd\n",
    "import os\n",
    "from dotenv import load_dotenv\n",
    "import psycopg\n",
    "from supabase import create_client, Client"
   ]
  },
  {
   "cell_type": "markdown",
   "id": "7968911f",
   "metadata": {},
   "source": [
    "## NDMA"
   ]
  },
  {
   "cell_type": "code",
   "execution_count": 38,
   "id": "6a25ed87",
   "metadata": {},
   "outputs": [],
   "source": [
    "ndma_csv_df = pd.read_csv(\"../Scrapers/ndma_advisories_bulk.csv\")\n",
    "data_ndma = []\n",
    "\n",
    "for _, row in ndma_csv_df.iterrows():\n",
    "    source = row[\"source_agency\"]\n",
    "    posted_date = row[\"date\"]\n",
    "    title = row[\"title\"]\n",
    "    url = row[\"url\"]\n",
    "    filename, filetype = os.path.splitext(row[\"filename\"])\n",
    "    filetype = filetype.lstrip('.')\n",
    "\n",
    "    data_ndma.append({\n",
    "        \"source\": source,\n",
    "        \"posted_date\": posted_date,\n",
    "        \"title\": title,\n",
    "        \"url\": url,\n",
    "        \"filename\": filename,\n",
    "        \"filetype\": filetype\n",
    "    })\n",
    "\n",
    "ndma_df = pd.DataFrame(data_ndma)"
   ]
  },
  {
   "cell_type": "markdown",
   "id": "5ddfee81",
   "metadata": {},
   "source": [
    "## NEOC"
   ]
  },
  {
   "cell_type": "code",
   "execution_count": 39,
   "id": "afa71ac8",
   "metadata": {},
   "outputs": [],
   "source": [
    "neoc_csv_df = pd.read_csv(\"../Scrapers/ndma_neoc_projections_bulk.csv\")\n",
    "data_neoc = []\n",
    "\n",
    "for _, row in neoc_csv_df.iterrows():\n",
    "    source = row[\"source_agency\"].split(\"-\")[1]\n",
    "    posted_date = row[\"date\"]\n",
    "    title = row[\"title\"]\n",
    "    url = row[\"url\"]\n",
    "    filename, filetype = os.path.splitext(row[\"filename\"])\n",
    "    filetype = filetype.lstrip('.')\n",
    "\n",
    "    data_neoc.append({\n",
    "        \"source\": source,\n",
    "        \"posted_date\": posted_date,\n",
    "        \"title\": title,\n",
    "        \"url\": url,\n",
    "        \"filename\": filename,\n",
    "        \"filetype\": filetype\n",
    "    })\n",
    "\n",
    "neoc_df = pd.DataFrame(data_neoc)"
   ]
  },
  {
   "cell_type": "markdown",
   "id": "76719fa8",
   "metadata": {},
   "source": [
    "## Combination"
   ]
  },
  {
   "cell_type": "code",
   "execution_count": null,
   "id": "27849971",
   "metadata": {},
   "outputs": [],
   "source": [
    "documents = pd.concat([ndma_df, neoc_df])\n",
    "documents['posted_date'] = pd.to_datetime(documents['posted_date'], dayfirst=True)\n",
    "documents = documents.sort_values(by='posted_date', ascending=False)\n",
    "\n",
    "documents.head()"
   ]
  },
  {
   "cell_type": "markdown",
   "id": "c8e5b47d",
   "metadata": {},
   "source": [
    "## Upload"
   ]
  },
  {
   "cell_type": "markdown",
   "id": "f3190ac3",
   "metadata": {},
   "source": [
    "### Connection"
   ]
  },
  {
   "cell_type": "code",
   "execution_count": null,
   "id": "2b1878be",
   "metadata": {},
   "outputs": [],
   "source": [
    "load_dotenv('../local.env', override=True)\n",
    "\n",
    "SUPABASE_URL = os.getenv(\"SUPABASE_URL\")\n",
    "SUPABASE_KEY = os.getenv(\"SUPABASE_KEY\")\n",
    "SUPABASE_DB_URL = os.getenv(\"SUPABASE_DB_URL\")\n",
    "\n",
    "supabase: Client = create_client(SUPABASE_URL, SUPABASE_KEY)\n",
    "conn = psycopg.connect(SUPABASE_DB_URL)\n",
    "cur = conn.cursor()\n",
    "print(\"Connected to Supabase\")"
   ]
  },
  {
   "cell_type": "markdown",
   "id": "88b82ba6",
   "metadata": {},
   "source": [
    "### Upload"
   ]
  },
  {
   "cell_type": "code",
   "execution_count": null,
   "id": "b07550ee",
   "metadata": {},
   "outputs": [],
   "source": [
    "INSERT_QUERY = \"\"\"\n",
    "    INSERT INTO documents (source, posted_date, title, url, filename, filetype)\n",
    "    VALUES (%s, %s, %s, %s, %s, %s)\n",
    "    ON CONFLICT(id) DO NOTHING\n",
    "\"\"\"\n",
    "\n",
    "values = [\n",
    "    (\n",
    "        row[\"source\"],\n",
    "        row[\"posted_date\"],\n",
    "        row[\"title\"],\n",
    "        row[\"url\"],\n",
    "        row[\"filename\"],\n",
    "        row[\"filetype\"],\n",
    "    )\n",
    "    for _, row in documents.iterrows()\n",
    "]\n",
    "\n",
    "print(f\"Inserting {len(values)} records...\")\n",
    "cur.executemany(INSERT_QUERY, values)\n",
    "conn.commit()\n",
    "\n",
    "print(\"Insertion successful\")\n",
    "\n",
    "cur.close()\n",
    "conn.close()"
   ]
  }
 ],
 "metadata": {
  "kernelspec": {
   "display_name": "venv",
   "language": "python",
   "name": "python3"
  },
  "language_info": {
   "codemirror_mode": {
    "name": "ipython",
    "version": 3
   },
   "file_extension": ".py",
   "mimetype": "text/x-python",
   "name": "python",
   "nbconvert_exporter": "python",
   "pygments_lexer": "ipython3",
   "version": "3.12.3"
  }
 },
 "nbformat": 4,
 "nbformat_minor": 5
}
