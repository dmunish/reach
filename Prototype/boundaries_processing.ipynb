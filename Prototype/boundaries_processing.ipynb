{
 "cells": [
  {
   "cell_type": "markdown",
   "id": "32df923a",
   "metadata": {},
   "source": [
    "## Imports"
   ]
  },
  {
   "cell_type": "code",
   "execution_count": 3,
   "id": "5f37889b",
   "metadata": {},
   "outputs": [],
   "source": [
    "import geopandas as gpd\n",
    "import pandas as pd\n",
    "from shapely.geometry import shape, MultiPolygon, Polygon\n",
    "import uuid\n",
    "import os\n",
    "from supabase import create_client, Client\n",
    "import json\n",
    "from dotenv import load_dotenv"
   ]
  },
  {
   "cell_type": "markdown",
   "id": "8af394f7",
   "metadata": {},
   "source": [
    "## Set Up Supabase Connection"
   ]
  },
  {
   "cell_type": "code",
   "execution_count": null,
   "id": "f22b8006",
   "metadata": {},
   "outputs": [],
   "source": [
    "load_dotenv('local.env')\n",
    "SUPABASE_URL = os.getenv(\"SUPABASE_URL\")\n",
    "SUPABASE_KEY = os.getenv(\"SUPABASE_KEY\")\n",
    "\n",
    "supabase: Client = create_client(SUPABASE_URL, SUPABASE_KEY)"
   ]
  },
  {
   "cell_type": "markdown",
   "id": "d172cab8",
   "metadata": {},
   "source": [
    "## Processing"
   ]
  },
  {
   "cell_type": "markdown",
   "id": "1e89330c",
   "metadata": {},
   "source": [
    "### Reading shape files"
   ]
  },
  {
   "cell_type": "code",
   "execution_count": 4,
   "id": "afbde5d0",
   "metadata": {},
   "outputs": [
    {
     "name": "stdout",
     "output_type": "stream",
     "text": [
      "Admin Level 0 shape: (1, 11)\n",
      "Admin Level 1 shape: (7, 13)\n",
      "Admin Level 2 shape: (160, 15)\n",
      "Admin Level 3 shape: (577, 17)\n"
     ]
    }
   ],
   "source": [
    "admin0 = gpd.read_file(\"Shapefiles\\\\pak_admbnda_adm0_wfp_20220909.shp\")\n",
    "admin1 = gpd.read_file(\"Shapefiles\\\\pak_admbnda_adm1_wfp_20220909.shp\")\n",
    "admin2 = gpd.read_file(\"Shapefiles\\\\pak_admbnda_adm2_wfp_20220909.shp\")\n",
    "admin3 = gpd.read_file(\"Shapefiles\\\\pak_admbnda_adm3_wfp_20220909.shp\")\n",
    "\n",
    "print(\"Admin Level 0 shape:\", admin0.shape)\n",
    "print(\"Admin Level 1 shape:\", admin1.shape)\n",
    "print(\"Admin Level 2 shape:\", admin2.shape)\n",
    "print(\"Admin Level 3 shape:\", admin3.shape)"
   ]
  },
  {
   "cell_type": "markdown",
   "id": "bb60fac4",
   "metadata": {},
   "source": [
    "### Shapefile structure"
   ]
  },
  {
   "cell_type": "code",
   "execution_count": 5,
   "id": "1b3c9f84",
   "metadata": {},
   "outputs": [
    {
     "name": "stdout",
     "output_type": "stream",
     "text": [
      "['Shape_Leng', 'Shape_Area', 'ADM2_EN', 'ADM2_PCODE', 'ADM2_REF', 'ADM2ALT1EN', 'ADM2ALT2EN', 'ADM1_EN', 'ADM1_PCODE', 'ADM0_EN', 'ADM0_PCODE', 'date', 'validOn', 'validTo', 'geometry']\n",
      "====================================\n",
      "   Shape_Leng  Shape_Area        ADM2_EN ADM2_PCODE ADM2_REF ADM2ALT1EN  \\\n",
      "0    1.594116    0.067758           Bagh      PK101     None       None   \n",
      "1    1.987888    0.117047        Bhimber      PK102     None       None   \n",
      "2    1.300416    0.066683  Jhelum Valley      PK103     None       None   \n",
      "3    1.001545    0.053722         Haveli      PK104     None       None   \n",
      "4    2.017824    0.155069          Kotli      PK105     None       None   \n",
      "\n",
      "  ADM2ALT2EN       ADM1_EN ADM1_PCODE   ADM0_EN ADM0_PCODE       date  \\\n",
      "0       None  Azad Kashmir        PK1  Pakistan         PK 2022-09-02   \n",
      "1       None  Azad Kashmir        PK1  Pakistan         PK 2022-09-02   \n",
      "2       None  Azad Kashmir        PK1  Pakistan         PK 2022-09-02   \n",
      "3       None  Azad Kashmir        PK1  Pakistan         PK 2022-09-02   \n",
      "4       None  Azad Kashmir        PK1  Pakistan         PK 2022-09-02   \n",
      "\n",
      "     validOn validTo                                           geometry  \n",
      "0 2022-09-09     NaT  POLYGON ((73.53892 34.12617, 73.53952 34.12492...  \n",
      "1 2022-09-09     NaT  POLYGON ((73.96443 33.24121, 73.96562 33.24077...  \n",
      "2 2022-09-09     NaT  POLYGON ((73.91993 34.34231, 73.94097 34.30174...  \n",
      "3 2022-09-09     NaT  POLYGON ((74.15687 34.04042, 74.16142 34.03887...  \n",
      "4 2022-09-09     NaT  POLYGON ((73.62197 33.65854, 73.62265 33.65844...  \n"
     ]
    }
   ],
   "source": [
    "print(admin2.columns.to_list())\n",
    "print(\"====================================\")\n",
    "print(admin2.head(5))"
   ]
  },
  {
   "cell_type": "markdown",
   "id": "ddc75ef7",
   "metadata": {},
   "source": [
    "### Transformation"
   ]
  },
  {
   "cell_type": "code",
   "execution_count": 13,
   "id": "a2f895eb",
   "metadata": {},
   "outputs": [],
   "source": [
    "if admin0.crs != \"EPSG:4326\":\n",
    "    admin0 = admin0.to_crs(\"EPSG:4326\")\n",
    "if admin1.crs != \"EPSG:4326\":\n",
    "    admin1 = admin1.to_crs(\"EPSG:4326\")\n",
    "if admin2.crs != \"EPSG:4326\":\n",
    "    admin2 = admin2.to_crs(\"EPSG:4326\")\n",
    "if admin3.crs != \"EPSG:4326\":\n",
    "    admin3 = admin3.to_crs(\"EPSG:4326\")"
   ]
  }
 ],
 "metadata": {
  "kernelspec": {
   "display_name": "venv",
   "language": "python",
   "name": "python3"
  },
  "language_info": {
   "codemirror_mode": {
    "name": "ipython",
    "version": 3
   },
   "file_extension": ".py",
   "mimetype": "text/x-python",
   "name": "python",
   "nbconvert_exporter": "python",
   "pygments_lexer": "ipython3",
   "version": "3.12.3"
  }
 },
 "nbformat": 4,
 "nbformat_minor": 5
}
